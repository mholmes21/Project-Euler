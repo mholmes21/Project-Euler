{
 "cells": [
  {
   "cell_type": "code",
   "execution_count": 3,
   "metadata": {},
   "outputs": [
    {
     "name": "stdout",
     "output_type": "stream",
     "text": [
      "We've reached 10\n",
      "We've reached 100\n",
      "We've reached 1000\n",
      "We've reached 10000\n",
      "We've reached 100000\n",
      "We've reached 1000000\n",
      "There are 303963552391 proper fractions\n",
      "2.4682934284210205\n"
     ]
    }
   ],
   "source": [
    "from time import time\n",
    "## Set max value\n",
    "N = 1000000\n",
    "count = 0\n",
    "progress = 1\n",
    "\n",
    "## Add up all phi(n) for values >= denominator; that will give us # fractions that dont reduce\n",
    "start = time()\n",
    "for i in range(2, N+1):\n",
    "    t = euler_phi(i)\n",
    "    count += t\n",
    "    #print(\"i,t:\",i,t)\n",
    "    if i == 10**progress:\n",
    "        print(\"We've reached\", 10**progress)\n",
    "        progress += 1\n",
    "end = time()\n",
    "print(\"There are\", count, \"proper fractions\")\n",
    "print(end-start)"
   ]
  },
  {
   "cell_type": "code",
   "execution_count": null,
   "metadata": {},
   "outputs": [],
   "source": []
  }
 ],
 "metadata": {
  "kernelspec": {
   "display_name": "SageMath 9.0",
   "language": "sage",
   "name": "sagemath"
  },
  "language_info": {
   "codemirror_mode": {
    "name": "ipython",
    "version": 3
   },
   "file_extension": ".py",
   "mimetype": "text/x-python",
   "name": "python",
   "nbconvert_exporter": "python",
   "pygments_lexer": "ipython3",
   "version": "3.7.3"
  }
 },
 "nbformat": 4,
 "nbformat_minor": 2
}
